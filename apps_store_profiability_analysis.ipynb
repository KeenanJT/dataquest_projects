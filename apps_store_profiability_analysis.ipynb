{
 "cells": [
  {
   "cell_type": "markdown",
   "metadata": {},
   "source": [
    "# Profitable Apps for the App Store and Google Play Markets\n",
    "\n",
    "Our aim in this project is to find mobile app profiles that are profitable for the App Store and Google Play markets. We're working as data analysts for a company that builds Android and iOS mobile apps, and our job is to enable our team of developers to make data-driven decisions with respect to the kind of apps they build.\n",
    "\n",
    "At our company, we only build apps that are free to download and install, and our main source of revenue consists of in-app ads. This means that our revenue for any given app is mostly influenced by the number of users that use our app. Our goal for this project is to analyze data to help our developers understand what kinds of apps are likely to attract more users.\n",
    "\n",
    "# Step 1: Opening and Exploring the Data\n",
    "\n",
    "As of September 2018, there were approximately 2 million iOS apps available on the App Store, and 2.1 million Android apps on Google Play.\n",
    "\n",
    "Collecting data for over four million apps requires a significant amount of time and money, so we'll try to analyze a sample of data instead. To avoid spending resources with collecting new data ourselves, we should first try to see whether we can find any relevant existing data at no cost. Luckily, these are two data sets that seem suitable for our purpose:\n",
    "\n",
    "- A [data set](https://www.kaggle.com/lava18/google-play-store-apps) containing data about approximately ten thousand Android apps from Google Play. You can download the data set directly from [this link]([https://dq-content.s3.amazonaws.com/350/googleplaystore.csv).\n",
    "- A [data set](https://www.kaggle.com/ramamet4/app-store-apple-data-set-10k-apps) containing data about approximately seven thousand iOS apps from the App Store. You can download the data set directly from [this link](https://dq-content.s3.amazonaws.com/350/AppleStore.csv)."
   ]
  },
  {
   "cell_type": "markdown",
   "metadata": {},
   "source": [
    "To make exploring the datasets by printing the rows in a readable way we'll first build a function named: **explore_data()**\n",
    "\n"
   ]
  },
  {
   "cell_type": "code",
   "execution_count": 1,
   "metadata": {},
   "outputs": [],
   "source": [
    "def explore_data(dataset, start, end, rows_and_columns=False):\n",
    "    dataset_slice = dataset[start:end]\n",
    "    for row in dataset_slice:\n",
    "        print(row)\n",
    "        print('\\n') # adds a new (empty) line after each row\n",
    "        \n",
    "    if rows_and_columns:\n",
    "        print('Number of rows:', len(dataset))\n",
    "        print('Number of columnes:', len(dataset[0]))"
   ]
  },
  {
   "cell_type": "markdown",
   "metadata": {},
   "source": [
    "The **explore_data()** function:\n",
    "\n",
    "Takes in four parameters:\n",
    "- **dataset**, which is expected to be a list of lists.\n",
    "- **start** and **end**, which are both expected to be integers and represent the starting and the ending indices of a slice from the data set.\n",
    "- **rows_and_columns**, which is expected to be a Boolean and has False as a default argument.\n",
    "- Slices the data set using **dataset[start:end]**.\n",
    "- Loops through the slice, and for each iteration, prints a row and adds a new line after that row using **print('\\n')**.\n",
    "    - The **\\n** in **print('\\n')** is a special character and won't be printed. Instead, the **\\n** character adds a new line, and we use **print('\\n')** to add some blank space between rows.\n",
    "- Prints the number of rows and columns if **rows_and_columns** is **True**.\n",
    "    - **dataset** shouldn't have a header row, otherwise the function will print the wrong number of rows (one more row compared to the actual length).\n",
    "    \n",
    "Will demonstrate the function below:"
   ]
  },
  {
   "cell_type": "code",
   "execution_count": 2,
   "metadata": {},
   "outputs": [],
   "source": [
    "from csv import reader #importing the reader function to open up the files"
   ]
  },
  {
   "cell_type": "code",
   "execution_count": 3,
   "metadata": {},
   "outputs": [],
   "source": [
    "opened_app_store_data = open('AppleStore.csv',encoding='utf8')\n",
    "read_app_store_data = reader(opened_app_store_data)\n",
    "app_store = list(read_app_store_data)\n",
    "\n",
    "opened_google_play_data = open('googleplaystore.csv',encoding='utf8')\n",
    "read_google_play_data = reader(opened_google_play_data)\n",
    "google_store = list(read_google_play_data)"
   ]
  },
  {
   "cell_type": "markdown",
   "metadata": {},
   "source": [
    "Now I will explore the data by using the function we built to show **explore_data()**:\n",
    "1. The header for each data set to get an understand of what data we're working with\n",
    "2. The number of rows and columns to have as a gut check to see if things look normal"
   ]
  },
  {
   "cell_type": "code",
   "execution_count": 4,
   "metadata": {
    "scrolled": true
   },
   "outputs": [
    {
     "name": "stdout",
     "output_type": "stream",
     "text": [
      "['id', 'track_name', 'size_bytes', 'currency', 'price', 'rating_count_tot', 'rating_count_ver', 'user_rating', 'user_rating_ver', 'ver', 'cont_rating', 'prime_genre', 'sup_devices.num', 'ipadSc_urls.num', 'lang.num', 'vpp_lic']\n",
      "\n",
      "\n",
      "['284882215', 'Facebook', '389879808', 'USD', '0.0', '2974676', '212', '3.5', '3.5', '95.0', '4+', 'Social Networking', '37', '1', '29', '1']\n",
      "\n",
      "\n",
      "Number of rows: 7198\n",
      "Number of columnes: 16\n"
     ]
    }
   ],
   "source": [
    "explore_data(app_store,0,2,rows_and_columns=True)"
   ]
  },
  {
   "cell_type": "code",
   "execution_count": 5,
   "metadata": {},
   "outputs": [
    {
     "name": "stdout",
     "output_type": "stream",
     "text": [
      "['App', 'Category', 'Rating', 'Reviews', 'Size', 'Installs', 'Type', 'Price', 'Content Rating', 'Genres', 'Last Updated', 'Current Ver', 'Android Ver']\n",
      "\n",
      "\n",
      "['Photo Editor & Candy Camera & Grid & ScrapBook', 'ART_AND_DESIGN', '4.1', '159', '19M', '10,000+', 'Free', '0', 'Everyone', 'Art & Design', 'January 7, 2018', '1.0.0', '4.0.3 and up']\n",
      "\n",
      "\n",
      "Number of rows: 10842\n",
      "Number of columnes: 13\n"
     ]
    }
   ],
   "source": [
    "explore_data(google_store,0,2,rows_and_columns=True)"
   ]
  },
  {
   "cell_type": "markdown",
   "metadata": {},
   "source": [
    "For this analysis we want to understand how apps that meet the below criteria perform, so we can inform our team on what we should be building.\n",
    "\n",
    "### Criteria\n",
    "\n",
    "* **Pricing:** Free to download and install\n",
    "* **Revenue:** Source of revenue is in-app ads\n",
    "* **User Count:** Has a higher number of users\n",
    "* **Language:** English speaking audience\n",
    "\n",
    "Quickly looking at the headers for each dataset these columns look like a great place to start.\n",
    "\n",
    "### App Store\n",
    "Variable is \"app_store\"\n",
    "All data is in a string format\n",
    "* Index 1: **track_name** - *App Name* - which is the name of the app\n",
    "* Index 4: **price** - *App Cost* - to know if it's free or not use the float 0.0 for free\n",
    "* Index 5: **rating_count_tot** - *Total Number of Ratings* - will be used as an approxmation for installs\n",
    "* Index 10: **cont_rating** - *Rating* - what is the app's rating\n",
    "* Index 11: **prime_genre** - *App Category* - to know which genre/category the app is in\n",
    "\n",
    "### Google Play Store\n",
    "Variable is \"google_store\"\n",
    "All data is in a string format\n",
    "* Index 0: **App** - *App Name* - which is the name of the app\n",
    "* Index 6: **Type** - *App's Cost* - to know if it's free or not; use the string 'Free'\n",
    "* Index 5: **Installs** - *Number of Installs* - category of number of installs the app recieved\n",
    "* Index 2: **Rating** - *Rating* - what is the app's rating\n",
    "* Index 1: **Category** - *App Category* - to know which genre/category the app is in\n"
   ]
  },
  {
   "cell_type": "markdown",
   "metadata": {},
   "source": [
    "## Data Cleaning Tasks\n",
    "- removing non-english apps since this project is for an app maker that is English-speaking only\n",
    "- removing apps that aren't free\n",
    "- remove duplicated app entries\n",
    "- google play store discussion forum says there's a missing category datapoint for the app \"Life Made WI-Fi Touchscreen Photo Frame\""
   ]
  },
  {
   "cell_type": "code",
   "execution_count": 6,
   "metadata": {},
   "outputs": [
    {
     "name": "stdout",
     "output_type": "stream",
     "text": [
      "['Life Made WI-Fi Touchscreen Photo Frame', '1.9', '19', '3.0M', '1,000+', 'Free', '0', 'Everyone', '', 'February 11, 2018', '1.0.19', '4.0 and up']\n",
      "10473\n"
     ]
    }
   ],
   "source": [
    "google_store_header = google_store[0]\n",
    "bad_idx = 0\n",
    "for row in google_store:\n",
    "    if len(row) != len(google_store_header):\n",
    "        print(row)\n",
    "        bad_idx = google_store.index(row)\n",
    "print(bad_idx)"
   ]
  },
  {
   "cell_type": "code",
   "execution_count": 7,
   "metadata": {
    "scrolled": true
   },
   "outputs": [
    {
     "data": {
      "text/plain": [
       "['Life Made WI-Fi Touchscreen Photo Frame',\n",
       " '1.9',\n",
       " '19',\n",
       " '3.0M',\n",
       " '1,000+',\n",
       " 'Free',\n",
       " '0',\n",
       " 'Everyone',\n",
       " '',\n",
       " 'February 11, 2018',\n",
       " '1.0.19',\n",
       " '4.0 and up']"
      ]
     },
     "execution_count": 7,
     "metadata": {},
     "output_type": "execute_result"
    }
   ],
   "source": [
    "#Double checking Index if it matches the app name\n",
    "google_store[bad_idx]"
   ]
  },
  {
   "cell_type": "code",
   "execution_count": 8,
   "metadata": {},
   "outputs": [],
   "source": [
    "#delete the bad row\n",
    "del google_store[bad_idx]"
   ]
  },
  {
   "cell_type": "markdown",
   "metadata": {},
   "source": [
    "### Removing Duplicates from both datasets\n",
    "\n",
    "**Duplicate Entries**\n",
    "\n",
    "There are multiple entries within the Google Play store dataset. It looks like there are 1181 duplicate apps, and the culprit is the number of reviews."
   ]
  },
  {
   "cell_type": "code",
   "execution_count": 9,
   "metadata": {},
   "outputs": [
    {
     "name": "stdout",
     "output_type": "stream",
     "text": [
      "Number of duplicate apps: 1181\n",
      "\n",
      "\n",
      "Examples of duplicate apps ['Quick PDF Scanner + OCR FREE', 'Box', 'Google My Business', 'ZOOM Cloud Meetings', 'join.me - Simple Meetings', 'Box', 'Zenefits', 'Google Ads', 'Google My Business', 'Slack', 'FreshBooks Classic', 'Insightly CRM', 'QuickBooks Accounting: Invoicing & Expenses', 'HipChat - Chat Built for Teams', 'Xero Accounting Software']\n"
     ]
    }
   ],
   "source": [
    "# checking for how many duplicate app entries there are in the Google Play Store data\n",
    "duplicate_apps = []\n",
    "unique_apps = []\n",
    "\n",
    "for app in google_store:\n",
    "    name = app[0]\n",
    "    if name in unique_apps:\n",
    "        duplicate_apps.append(name)\n",
    "    else:\n",
    "        unique_apps.append(name)\n",
    "\n",
    "print('Number of duplicate apps:', len(duplicate_apps))\n",
    "print('\\n')\n",
    "print('Examples of duplicate apps', duplicate_apps[:15])"
   ]
  },
  {
   "cell_type": "code",
   "execution_count": 10,
   "metadata": {},
   "outputs": [
    {
     "name": "stdout",
     "output_type": "stream",
     "text": [
      "['Instagram', 'SOCIAL', '4.5', '66577313', 'Varies with device', '1,000,000,000+', 'Free', '0', 'Teen', 'Social', 'July 31, 2018', 'Varies with device', 'Varies with device']\n",
      "['Instagram', 'SOCIAL', '4.5', '66577446', 'Varies with device', '1,000,000,000+', 'Free', '0', 'Teen', 'Social', 'July 31, 2018', 'Varies with device', 'Varies with device']\n",
      "['Instagram', 'SOCIAL', '4.5', '66577313', 'Varies with device', '1,000,000,000+', 'Free', '0', 'Teen', 'Social', 'July 31, 2018', 'Varies with device', 'Varies with device']\n",
      "['Instagram', 'SOCIAL', '4.5', '66509917', 'Varies with device', '1,000,000,000+', 'Free', '0', 'Teen', 'Social', 'July 31, 2018', 'Varies with device', 'Varies with device']\n"
     ]
    }
   ],
   "source": [
    "# Will use Instagram as an example of an app being duplicated\n",
    "\n",
    "for app in google_store:\n",
    "    name = app[0]\n",
    "    if name == 'Instagram':\n",
    "        print(app)"
   ]
  },
  {
   "cell_type": "markdown",
   "metadata": {},
   "source": [
    "You can see that there are multiple Instagram app entries and the only difference is the number of reviews. \n",
    "\n",
    "We will look to take the app entry with the most reviews and delete the others.\n",
    "\n",
    "Because the app entry with the most reviews should be the most recent.\n",
    "\n",
    "Below we will start removing the duplications by creating a dictionary with the key being the app name and the value being the highest rating. Use that to reference to the main Google Play Store table and remove the duplicate entries."
   ]
  },
  {
   "cell_type": "code",
   "execution_count": 11,
   "metadata": {},
   "outputs": [
    {
     "name": "stdout",
     "output_type": "stream",
     "text": [
      "9659\n"
     ]
    }
   ],
   "source": [
    "reviews_max = {}\n",
    "for app in google_store[1:]:\n",
    "    name = app[0]\n",
    "    n_reviews = float(app[3])\n",
    "    \n",
    "    if name in reviews_max and reviews_max[name] < n_reviews:\n",
    "        reviews_max[name] = n_reviews\n",
    "    \n",
    "    if name not in reviews_max:\n",
    "        reviews_max[name] = n_reviews\n",
    "\n",
    "print(len(reviews_max))"
   ]
  },
  {
   "cell_type": "markdown",
   "metadata": {},
   "source": [
    "When we print out the length of **unique_apps** we get the number 9659 (excluding headline - *9660 with headline*). So after removing the duplicates and when we print out the length of **reviews_max** we also get the number of 9659 we can tell our cleaning process worked"
   ]
  },
  {
   "cell_type": "code",
   "execution_count": 12,
   "metadata": {},
   "outputs": [],
   "source": [
    "android_clean = []\n",
    "already_added = []\n",
    "\n",
    "android_clean.append(google_store[0])\n",
    "\n",
    "for app in google_store[1:]:\n",
    "    name = app[0]\n",
    "    n_reviews = float(app[3])\n",
    "    \n",
    "    if n_reviews == reviews_max[name] and name not in already_added:\n",
    "        android_clean.append(app)\n",
    "        already_added.append(name)"
   ]
  },
  {
   "cell_type": "code",
   "execution_count": 13,
   "metadata": {},
   "outputs": [
    {
     "name": "stdout",
     "output_type": "stream",
     "text": [
      "9660\n"
     ]
    }
   ],
   "source": [
    "print(len(android_clean)) #with headline"
   ]
  },
  {
   "cell_type": "markdown",
   "metadata": {},
   "source": [
    "How we cleaned this dataset is by looking for the number of reviews within the original **google_store** dataset and cross referenced it to the **reviews_max** dataset we built as it houses the correct app review count.\n",
    "\n",
    "Then once we found the numbers that matched we made sure that we didn't already add that app entry but checking to see if it was in a list called *already_added*. This ensured we didn't add in anymore entries.\n",
    "\n",
    "Finally we added the correct app entries to the **android_clean** dataset and stored the name of the app in the *already_clean* list.\n",
    "\n",
    "And checked to ensure the length of the new dataset was the same amount as the unique and max review datasets. Looks like it matches!"
   ]
  },
  {
   "cell_type": "markdown",
   "metadata": {},
   "source": [
    "### Removing Non-English Apps from both datasets\n",
    "\n",
    "We do not see duplicate entries within the dataset, because when we look at the ids there are no duplications. Example checker below.\n"
   ]
  },
  {
   "cell_type": "code",
   "execution_count": 14,
   "metadata": {},
   "outputs": [
    {
     "name": "stdout",
     "output_type": "stream",
     "text": [
      "Length of unqiue ids (no header row) 7197\n",
      "Length of duplicate ids 0\n",
      "Length of app store dataset (without header row) 7197\n"
     ]
    }
   ],
   "source": [
    "unique_ids = []\n",
    "duplicate_ids = []\n",
    "\n",
    "for app in app_store[1:]:\n",
    "    ios_id = app[0]\n",
    "    \n",
    "    if ios_id not in duplicate_ids:\n",
    "        unique_ids.append(ios_id)\n",
    "    else:\n",
    "        duplicate_ids.append(ios_id)\n",
    "        \n",
    "print('Length of unqiue ids (no header row)', len(unique_ids))\n",
    "print('Length of duplicate ids', len(duplicate_ids))\n",
    "print('Length of app store dataset (without header row)', len(app_store[1:]))\n",
    "        \n",
    "        "
   ]
  },
  {
   "cell_type": "markdown",
   "metadata": {},
   "source": [
    "To check if the app name is a non-English character we are going to create a function that will check each character of the app's name.\n",
    "\n",
    "We will check the character agaisnt the ASCII system code by using the built in function **ord()**. English characters fall within the range of 0 to 127, so if the character is not within this range then it's not English, thus the app is not English."
   ]
  },
  {
   "cell_type": "code",
   "execution_count": 15,
   "metadata": {},
   "outputs": [],
   "source": [
    "def is_english_v1(word):\n",
    "    for char in word:\n",
    "        if ord(char) > 127:\n",
    "            print(char,'is not English ',word,'is not an English word')\n",
    "            return False\n",
    "    print(word,'is an English word')\n",
    "    return True"
   ]
  },
  {
   "cell_type": "code",
   "execution_count": 16,
   "metadata": {},
   "outputs": [
    {
     "name": "stdout",
     "output_type": "stream",
     "text": [
      "Instagram is an English word\n",
      "True\n",
      "爱 is not English  爱奇艺PPS -《欢乐颂2》电视剧热播 is not an English word\n",
      "False\n",
      "™ is not English  Docs To Go™ Free Office Suite is not an English word\n",
      "False\n",
      "😜 is not English  Instachat 😜 is not an English word\n",
      "False\n",
      "123 is an English word\n",
      "True\n"
     ]
    }
   ],
   "source": [
    "print(is_english_v1('Instagram'))\n",
    "print(is_english_v1('爱奇艺PPS -《欢乐颂2》电视剧热播'))\n",
    "print(is_english_v1('Docs To Go™ Free Office Suite'))\n",
    "print(is_english_v1('Instachat 😜'))\n",
    "print(is_english_v1('123'))"
   ]
  },
  {
   "cell_type": "markdown",
   "metadata": {},
   "source": [
    "Unforuntately, our filter function flags emojis and \"trademark\" as not English. So we'll rewrite the function to take up to 3 characters that fall outside of the ASCII range we specified. "
   ]
  },
  {
   "cell_type": "code",
   "execution_count": 17,
   "metadata": {},
   "outputs": [],
   "source": [
    "def is_english_v2(word):\n",
    "    counter = 0\n",
    "    for char in word:\n",
    "        if ord(char) > 127:\n",
    "            counter += 1\n",
    "            if counter >= 3:\n",
    "                print('More than three characters were flagged as not within ASCII range',word,'is not an English word/phrase')\n",
    "                return False\n",
    "    print(word,'is an English word')\n",
    "    return True"
   ]
  },
  {
   "cell_type": "code",
   "execution_count": 18,
   "metadata": {},
   "outputs": [
    {
     "name": "stdout",
     "output_type": "stream",
     "text": [
      "Instagram is an English word\n",
      "True\n",
      "More than three characters were flagged as not within ASCII range 爱奇艺PPS -《欢乐颂2》电视剧热播 is not an English word/phrase\n",
      "False\n",
      "Docs To Go™ Free Office Suite is an English word\n",
      "True\n",
      "Instachat 😜 is an English word\n",
      "True\n",
      "123 is an English word\n",
      "True\n"
     ]
    }
   ],
   "source": [
    "print(is_english_v2('Instagram'))\n",
    "print(is_english_v2('爱奇艺PPS -《欢乐颂2》电视剧热播'))\n",
    "print(is_english_v2('Docs To Go™ Free Office Suite'))\n",
    "print(is_english_v2('Instachat 😜'))\n",
    "print(is_english_v2('123'))"
   ]
  },
  {
   "cell_type": "markdown",
   "metadata": {},
   "source": [
    "Now that version two of our filter function works we'll recreate it without the print statements to be used to filter the ios and android datasets."
   ]
  },
  {
   "cell_type": "code",
   "execution_count": 19,
   "metadata": {},
   "outputs": [],
   "source": [
    "def is_english(word):\n",
    "    counter = 0\n",
    "    for char in word:\n",
    "        if ord(char) > 127:\n",
    "            counter += 1\n",
    "            if counter >= 3:\n",
    "                return False\n",
    "    return True"
   ]
  },
  {
   "cell_type": "code",
   "execution_count": 20,
   "metadata": {},
   "outputs": [],
   "source": [
    "eng_only_app_store = []\n",
    "eng_only_google_store = []"
   ]
  },
  {
   "cell_type": "code",
   "execution_count": 21,
   "metadata": {},
   "outputs": [
    {
     "name": "stdout",
     "output_type": "stream",
     "text": [
      "['id', 'track_name', 'size_bytes', 'currency', 'price', 'rating_count_tot', 'rating_count_ver', 'user_rating', 'user_rating_ver', 'ver', 'cont_rating', 'prime_genre', 'sup_devices.num', 'ipadSc_urls.num', 'lang.num', 'vpp_lic']\n",
      "\n",
      "\n",
      "['284882215', 'Facebook', '389879808', 'USD', '0.0', '2974676', '212', '3.5', '3.5', '95.0', '4+', 'Social Networking', '37', '1', '29', '1']\n",
      "\n",
      "\n",
      "Number of rows: 6156\n",
      "Number of columnes: 16\n"
     ]
    }
   ],
   "source": [
    "# Filtering the Apple Store dataset\n",
    "for app in app_store:\n",
    "    name = app[1]\n",
    "    if is_english(name):\n",
    "        eng_only_app_store.append(app)\n",
    "    else:\n",
    "        next\n",
    "\n",
    "explore_data(eng_only_app_store,0,2,rows_and_columns=True)"
   ]
  },
  {
   "cell_type": "code",
   "execution_count": 22,
   "metadata": {},
   "outputs": [
    {
     "name": "stdout",
     "output_type": "stream",
     "text": [
      "['App', 'Category', 'Rating', 'Reviews', 'Size', 'Installs', 'Type', 'Price', 'Content Rating', 'Genres', 'Last Updated', 'Current Ver', 'Android Ver']\n",
      "\n",
      "\n",
      "['Photo Editor & Candy Camera & Grid & ScrapBook', 'ART_AND_DESIGN', '4.1', '159', '19M', '10,000+', 'Free', '0', 'Everyone', 'Art & Design', 'January 7, 2018', '1.0.0', '4.0.3 and up']\n",
      "\n",
      "\n",
      "Number of rows: 9598\n",
      "Number of columnes: 13\n"
     ]
    }
   ],
   "source": [
    "# Filtering the Google Play Store dataset\n",
    "for app in android_clean:\n",
    "    name = app[0]\n",
    "    if is_english(name):\n",
    "        eng_only_google_store.append(app)\n",
    "    else:\n",
    "        next\n",
    "\n",
    "explore_data(eng_only_google_store,0,2,rows_and_columns=True)\n",
    "        "
   ]
  },
  {
   "cell_type": "markdown",
   "metadata": {},
   "source": [
    "Filtering out non-English apps took the **Apple App Store** dataset down from *7198* rows to *6156*, thus were ***1042*** non-English apps.\n",
    "\n",
    "Filtering out non-English apps took the **Google Playstore Store** dataset down from *9660* rows to *9598*, thus were ***62*** non-English apps."
   ]
  },
  {
   "cell_type": "markdown",
   "metadata": {},
   "source": [
    "### Removing Paid Apps from both datasets\n",
    "\n",
    "Our data sets contain both free and non-free apps; we'll need to isolate only the free apps for our analysis.\n",
    "\n",
    "Isolating the free apps will be our last step in the data cleaning process."
   ]
  },
  {
   "cell_type": "code",
   "execution_count": 23,
   "metadata": {},
   "outputs": [],
   "source": [
    "def filter_row(dataset, column_idx, data_point, header = True):\n",
    "    cleaned_dataset = []\n",
    "    if header:\n",
    "        cleaned_dataset.append(dataset[0]) # give the new dataset the header from the dataset that's being transformed\n",
    "        for row in dataset:\n",
    "            column_item = row[column_idx]\n",
    "            if column_item == data_point:\n",
    "                cleaned_dataset.append(row)\n",
    "    \n",
    "    if header == False:\n",
    "        for row in dataset:\n",
    "            column_item = row[column_idx]\n",
    "            if column_item == data_point:\n",
    "                cleaned_dataset.append(row)\n",
    "                \n",
    "    return cleaned_dataset"
   ]
  },
  {
   "cell_type": "code",
   "execution_count": 24,
   "metadata": {},
   "outputs": [],
   "source": [
    "cleaned_ios_store = filter_row(eng_only_app_store,4,'0.0')"
   ]
  },
  {
   "cell_type": "code",
   "execution_count": 25,
   "metadata": {},
   "outputs": [],
   "source": [
    "cleaned_android_store = filter_row(eng_only_google_store,6,'Free')"
   ]
  },
  {
   "cell_type": "code",
   "execution_count": 26,
   "metadata": {
    "scrolled": true
   },
   "outputs": [
    {
     "name": "stdout",
     "output_type": "stream",
     "text": [
      "['id', 'track_name', 'size_bytes', 'currency', 'price', 'rating_count_tot', 'rating_count_ver', 'user_rating', 'user_rating_ver', 'ver', 'cont_rating', 'prime_genre', 'sup_devices.num', 'ipadSc_urls.num', 'lang.num', 'vpp_lic']\n",
      "\n",
      "\n",
      "['284882215', 'Facebook', '389879808', 'USD', '0.0', '2974676', '212', '3.5', '3.5', '95.0', '4+', 'Social Networking', '37', '1', '29', '1']\n",
      "\n",
      "\n",
      "['389801252', 'Instagram', '113954816', 'USD', '0.0', '2161558', '1289', '4.5', '4.0', '10.23', '12+', 'Photo & Video', '37', '0', '29', '1']\n",
      "\n",
      "\n",
      "['529479190', 'Clash of Clans', '116476928', 'USD', '0.0', '2130805', '579', '4.5', '4.5', '9.24.12', '9+', 'Games', '38', '5', '18', '1']\n",
      "\n",
      "\n",
      "['420009108', 'Temple Run', '65921024', 'USD', '0.0', '1724546', '3842', '4.5', '4.0', '1.6.2', '9+', 'Games', '40', '5', '1', '1']\n",
      "\n",
      "\n",
      "Number of rows: 3204\n",
      "Number of columnes: 16\n"
     ]
    }
   ],
   "source": [
    "explore_data(cleaned_ios_store,0,5,rows_and_columns=True)"
   ]
  },
  {
   "cell_type": "code",
   "execution_count": 27,
   "metadata": {},
   "outputs": [
    {
     "name": "stdout",
     "output_type": "stream",
     "text": [
      "['App', 'Category', 'Rating', 'Reviews', 'Size', 'Installs', 'Type', 'Price', 'Content Rating', 'Genres', 'Last Updated', 'Current Ver', 'Android Ver']\n",
      "\n",
      "\n",
      "['Photo Editor & Candy Camera & Grid & ScrapBook', 'ART_AND_DESIGN', '4.1', '159', '19M', '10,000+', 'Free', '0', 'Everyone', 'Art & Design', 'January 7, 2018', '1.0.0', '4.0.3 and up']\n",
      "\n",
      "\n",
      "['U Launcher Lite – FREE Live Cool Themes, Hide Apps', 'ART_AND_DESIGN', '4.7', '87510', '8.7M', '5,000,000+', 'Free', '0', 'Everyone', 'Art & Design', 'August 1, 2018', '1.2.4', '4.0.3 and up']\n",
      "\n",
      "\n",
      "['Sketch - Draw & Paint', 'ART_AND_DESIGN', '4.5', '215644', '25M', '50,000,000+', 'Free', '0', 'Teen', 'Art & Design', 'June 8, 2018', 'Varies with device', '4.2 and up']\n",
      "\n",
      "\n",
      "['Pixel Draw - Number Art Coloring Book', 'ART_AND_DESIGN', '4.3', '967', '2.8M', '100,000+', 'Free', '0', 'Everyone', 'Art & Design;Creativity', 'June 20, 2018', '1.1', '4.4 and up']\n",
      "\n",
      "\n",
      "Number of rows: 8848\n",
      "Number of columnes: 13\n"
     ]
    }
   ],
   "source": [
    "explore_data(cleaned_android_store,0,5,rows_and_columns=True)"
   ]
  },
  {
   "cell_type": "markdown",
   "metadata": {},
   "source": [
    "Now let's make a checker function to ensure it worked."
   ]
  },
  {
   "cell_type": "code",
   "execution_count": 28,
   "metadata": {},
   "outputs": [],
   "source": [
    "# checker function\n",
    "\n",
    "def row_filter_checker(dataset, column_idx, data_point, header = True):\n",
    "    counter = 0\n",
    "    if header:\n",
    "        for row in dataset[1:]:\n",
    "            column_item = row[column_idx]\n",
    "            if column_item != data_point:\n",
    "                counter += 1   \n",
    "    return counter"
   ]
  },
  {
   "cell_type": "code",
   "execution_count": 29,
   "metadata": {},
   "outputs": [
    {
     "name": "stdout",
     "output_type": "stream",
     "text": [
      "We found 0 paid apps in the iOS dataset.\n"
     ]
    }
   ],
   "source": [
    "# checking to see if there are paid apps in the iOS dataset\n",
    "print('We found',row_filter_checker(cleaned_ios_store,4,'0.0'),'paid apps in the iOS dataset.')"
   ]
  },
  {
   "cell_type": "code",
   "execution_count": 30,
   "metadata": {},
   "outputs": [
    {
     "name": "stdout",
     "output_type": "stream",
     "text": [
      "We found 0 paid apps in the Android dataset.\n"
     ]
    }
   ],
   "source": [
    "# checking to see if there are paid apps in the iOS dataset\n",
    "print('We found',row_filter_checker(cleaned_android_store,6,'Free'),'paid apps in the Android dataset.')"
   ]
  },
  {
   "cell_type": "markdown",
   "metadata": {},
   "source": [
    "Filtering out paid apps took the **Apple App Store** dataset down from *6156* rows to *3204*, that is a reduction of ***2952*** paid apps.\n",
    "\n",
    "Filtering out paid apps apps took the **Google Playstore Store** dataset down from *9598* rows to *8848*, that is a reduction of ***750*** paid apps apps."
   ]
  },
  {
   "cell_type": "markdown",
   "metadata": {},
   "source": [
    "# Step 1: Analyzing The Data\n",
    "\n",
    "To minimize risks and overhead, our validation strategy for an app idea is comprised of three steps:\n",
    "\n",
    "1. Build a minimal Android version of the app, and add it to Google Play.\n",
    "2. If the app has a good response from users, we develop it further.\n",
    "3. If the app is profitable after six months, we build an iOS version of the app and add it to the App Store.\n",
    "\n",
    "Because our end goal is to add the app on both Google Play and the App Store, we need to find app profiles that are successful on both markets. For instance, a profile that works well for both markets might be a productivity app that makes use of gamification.\n",
    "## Building Frequency Tables\n",
    "\n",
    "Let's begin the analysis by getting a sense of what are the most common genres for each market. \n",
    "\n",
    "**Step 1:** Inspect both data sets and identify the columns you could use to generate frequency tables to find out what are the most common genres in each market.\n",
    "\n",
    "**iOS:**\n",
    "- Index 11: \"prime_genre\" - app's type\n",
    "\n",
    "**Android:**\n",
    "- Index 1: \"Category\" - the app's type - ex: Art & Design\n",
    "- Index 9: \"Genres\" - more specific app type - ex: Art & Design; Creativity\n",
    "\n",
    "**Step 2:** We'll build two functions we can use to analyze the frequency tables:\n",
    "\n",
    "1. One function to generate frequency tables that show percentages\n",
    "2. Another function we can use to display the percentages in a descending order"
   ]
  },
  {
   "cell_type": "markdown",
   "metadata": {},
   "source": [
    "The **freq_table()** function you see below:\n",
    "\n",
    "- Takes in two parameters: dataset and index. dataset is expected to be a list of lists, and index is expected to be an integer.\n",
    "- Created an empty dictionary that will be filled with the desired column's data as the key\n",
    "- Then count the times that key comes up\n",
    "- Returns the filled table with the key being the column's data point and the value being the frequency"
   ]
  },
  {
   "cell_type": "markdown",
   "metadata": {},
   "source": [
    "The **display_table()** function you see below:\n",
    "\n",
    "- Takes in two parameters: dataset and index. dataset is expected to be a list of lists, and index is expected to be an integer.\n",
    "- Generates a frequency table using the freq_table() function (which you're going to write as an exercise).\n",
    "- Transforms the frequency table into a list of tuples, then sorts the list in a descending order.\n",
    "- Prints the entries of the frequency table in descending order."
   ]
  },
  {
   "cell_type": "code",
   "execution_count": 31,
   "metadata": {},
   "outputs": [],
   "source": [
    "def freq_table(dataset, index):\n",
    "    f_table = {}\n",
    "    total = 0\n",
    "    \n",
    "    for row in dataset[1:]:\n",
    "        total += 1\n",
    "        column = row[index]\n",
    "        if column not in f_table:\n",
    "            f_table[column] = 1\n",
    "        else:\n",
    "            f_table[column] += 1\n",
    "            \n",
    "    table_percentages = {}\n",
    "    for key in f_table:\n",
    "        percentage = (f_table[key] / total) * 100\n",
    "        table_percentages[key] = percentage\n",
    "        \n",
    "    return table_percentages"
   ]
  },
  {
   "cell_type": "code",
   "execution_count": 43,
   "metadata": {},
   "outputs": [],
   "source": [
    "def display_table(dataset, index=0, need_idx = True):\n",
    "    table_display = []\n",
    "    \n",
    "    if need_idx:\n",
    "        table = freq_table(dataset, index)\n",
    "        for key in table:\n",
    "            key_val_as_tuple = (table[key], key)\n",
    "            table_display.append(key_val_as_tuple)\n",
    "\n",
    "        table_sorted = sorted(table_display, reverse = True)\n",
    "        for entry in table_sorted:\n",
    "            print(entry[1], ':', entry[0])\n",
    "    else:\n",
    "        for key in dataset:\n",
    "            key_val_as_tuple = (dataset[key], key)\n",
    "            table_display.append(key_val_as_tuple)\n",
    "\n",
    "        table_sorted = sorted(table_display, reverse = True)\n",
    "        for entry in table_sorted:\n",
    "            print(entry[1], ':', entry[0])"
   ]
  },
  {
   "cell_type": "markdown",
   "metadata": {},
   "source": [
    "### Ordered Frequency Table for iOS Genres"
   ]
  },
  {
   "cell_type": "code",
   "execution_count": 33,
   "metadata": {
    "scrolled": true
   },
   "outputs": [
    {
     "name": "stdout",
     "output_type": "stream",
     "text": [
      "Games : 58.25788323446769\n",
      "Entertainment : 7.836403371838902\n",
      "Photo & Video : 4.995316890415236\n",
      "Education : 3.6840462066812365\n",
      "Social Networking : 3.3093974399000934\n",
      "Shopping : 2.5913206369029034\n",
      "Utilities : 2.466437714642523\n",
      "Sports : 2.1542304089915705\n",
      "Music : 2.0605682172962845\n",
      "Health & Fitness : 2.0293474867311896\n",
      "Productivity : 1.7483609116453322\n",
      "Lifestyle : 1.5610365282547611\n",
      "News : 1.3424914142990947\n",
      "Travel : 1.248829222603809\n",
      "Finance : 1.0927255697783327\n",
      "Weather : 0.8741804558226661\n",
      "Food & Drink : 0.8117389946924758\n",
      "Reference : 0.5307524196066188\n",
      "Business : 0.5307524196066188\n",
      "Book : 0.3746487667811427\n",
      "Navigation : 0.18732438339057134\n",
      "Medical : 0.18732438339057134\n",
      "Catalogs : 0.1248829222603809\n"
     ]
    }
   ],
   "source": [
    "ios_genres_f_table = display_table(cleaned_ios_store, 11)"
   ]
  },
  {
   "cell_type": "markdown",
   "metadata": {},
   "source": [
    "#### Analysis of iOS Genres\n",
    "1. What is the most common genre? What is the runner-up?\n",
    "    - Most common genre is Games\n",
    "    - Second most common genre is Entertainment\n",
    "2. What other patterns do you see?\n",
    "    - Games, Entertainment, Photo & Video, and Social Networking, 4 of the top 5 app genres are about passing the time.\n",
    "3. What is the general impression — are most of the apps designed for practical purposes (education, shopping, utilities, productivity, lifestyle) or more for entertainment (games, photo and video, social networking, sports, music)?\n",
    "    - Entertainment\n",
    "4. Can you recommend an app profile for the App Store market based on this frequency table alone? If there's a large number of apps for a particular genre, does that also imply that apps of that genre generally have a large number of users?\n",
    "    - Higher number of apps within a genre could mean higher total number of users, but to know if this translates into dollars we'd need to know either the revenue driven, engagement rate, or some kind of proxy to understand value within the app. Entertaining apps have a lower barrier of entry and commitment compared to utility which is usually tied to a problem that needs to be solved, which in turn could have a higher engagement or revenue rate."
   ]
  },
  {
   "cell_type": "markdown",
   "metadata": {},
   "source": [
    "### Ordered Frequency Table for Android Category"
   ]
  },
  {
   "cell_type": "code",
   "execution_count": 34,
   "metadata": {},
   "outputs": [
    {
     "name": "stdout",
     "output_type": "stream",
     "text": [
      "FAMILY : 18.932971628800725\n",
      "GAME : 9.698202780603594\n",
      "TOOLS : 8.45484344975698\n",
      "BUSINESS : 4.600429524132474\n",
      "PRODUCTIVITY : 3.8996269922007465\n",
      "LIFESTYLE : 3.888323725556686\n",
      "FINANCE : 3.7074714592517237\n",
      "MEDICAL : 3.537922459590822\n",
      "SPORTS : 3.39097999321804\n",
      "PERSONALIZATION : 3.3231603933536795\n",
      "COMMUNICATION : 3.2327342602011986\n",
      "HEALTH_AND_FITNESS : 3.0857917938284163\n",
      "PHOTOGRAPHY : 2.950152594099695\n",
      "NEWS_AND_MAGAZINES : 2.803210127726913\n",
      "SOCIAL : 2.6675709279981916\n",
      "TRAVEL_AND_LOCAL : 2.3397761953204474\n",
      "SHOPPING : 2.2493500621679665\n",
      "BOOKS_AND_REFERENCE : 2.136317395727365\n",
      "DATING : 1.8650389962699219\n",
      "VIDEO_PLAYERS : 1.797219396405561\n",
      "MAPS_AND_NAVIGATION : 1.3903017972193965\n",
      "FOOD_AND_DRINK : 1.2433593308466147\n",
      "EDUCATION : 1.1642364643381937\n",
      "ENTERTAINMENT : 0.9607776647451114\n",
      "LIBRARIES_AND_DEMO : 0.938171131456991\n",
      "AUTO_AND_VEHICLES : 0.9268678648129309\n",
      "HOUSE_AND_HOME : 0.8025319317282694\n",
      "WEATHER : 0.7912286650842093\n",
      "EVENTS : 0.7121057985757884\n",
      "PARENTING : 0.6555894653554878\n",
      "ART_AND_DESIGN : 0.6442861987114276\n",
      "COMICS : 0.6103763987792472\n",
      "BEAUTY : 0.5990731321351871\n"
     ]
    }
   ],
   "source": [
    "display_table(cleaned_android_store, 1)"
   ]
  },
  {
   "cell_type": "markdown",
   "metadata": {},
   "source": [
    "### Ordered Frequency Table for Android Genre"
   ]
  },
  {
   "cell_type": "code",
   "execution_count": 35,
   "metadata": {},
   "outputs": [
    {
     "name": "stdout",
     "output_type": "stream",
     "text": [
      "Tools : 8.44354018311292\n",
      "Entertainment : 6.081157454504352\n",
      "Education : 5.357748389284503\n",
      "Business : 4.600429524132474\n",
      "Productivity : 3.8996269922007465\n",
      "Lifestyle : 3.8770204589126256\n",
      "Finance : 3.7074714592517237\n",
      "Medical : 3.537922459590822\n",
      "Sports : 3.458799593082401\n",
      "Personalization : 3.3231603933536795\n",
      "Communication : 3.2327342602011986\n",
      "Action : 3.0970950604724763\n",
      "Health & Fitness : 3.0857917938284163\n",
      "Photography : 2.950152594099695\n",
      "News & Magazines : 2.803210127726913\n",
      "Social : 2.6675709279981916\n",
      "Travel & Local : 2.3284729286763874\n",
      "Shopping : 2.2493500621679665\n",
      "Books & Reference : 2.136317395727365\n",
      "Simulation : 2.045891262574884\n",
      "Dating : 1.8650389962699219\n",
      "Arcade : 1.8424324629818016\n",
      "Video Players & Editors : 1.7746128631174407\n",
      "Casual : 1.763309596473381\n",
      "Maps & Navigation : 1.3903017972193965\n",
      "Food & Drink : 1.2433593308466147\n",
      "Puzzle : 1.1303266644060133\n",
      "Racing : 0.9946874646772917\n",
      "Role Playing : 0.938171131456991\n",
      "Libraries & Demo : 0.938171131456991\n",
      "Auto & Vehicles : 0.9268678648129309\n",
      "Strategy : 0.9042613315248107\n",
      "House & Home : 0.8025319317282694\n",
      "Weather : 0.7912286650842093\n",
      "Events : 0.7121057985757884\n",
      "Adventure : 0.6668927319995479\n",
      "Comics : 0.5990731321351871\n",
      "Beauty : 0.5990731321351871\n",
      "Art & Design : 0.5990731321351871\n",
      "Parenting : 0.49734373233864587\n",
      "Card : 0.45213066576240535\n",
      "Trivia : 0.41822086583022494\n",
      "Casino : 0.41822086583022494\n",
      "Educational;Education : 0.39561433254210465\n",
      "Board : 0.38431106589804453\n",
      "Educational : 0.3730077992539844\n",
      "Education;Education : 0.339097999321804\n",
      "Word : 0.2599751328133831\n",
      "Casual;Pretend Play : 0.23736859952526282\n",
      "Music : 0.20345879959308238\n",
      "Racing;Action & Adventure : 0.169548999660902\n",
      "Puzzle;Brain Games : 0.169548999660902\n",
      "Entertainment;Music & Video : 0.169548999660902\n",
      "Casual;Brain Games : 0.1356391997287216\n",
      "Casual;Action & Adventure : 0.1356391997287216\n",
      "Arcade;Action & Adventure : 0.12433593308466147\n",
      "Action;Action & Adventure : 0.10172939979654119\n",
      "Educational;Pretend Play : 0.09042613315248108\n",
      "Simulation;Action & Adventure : 0.07912286650842093\n",
      "Parenting;Education : 0.07912286650842093\n",
      "Entertainment;Brain Games : 0.07912286650842093\n",
      "Board;Brain Games : 0.07912286650842093\n",
      "Parenting;Music & Video : 0.0678195998643608\n",
      "Educational;Brain Games : 0.0678195998643608\n",
      "Casual;Creativity : 0.0678195998643608\n",
      "Art & Design;Creativity : 0.0678195998643608\n",
      "Education;Pretend Play : 0.05651633322030067\n",
      "Role Playing;Pretend Play : 0.04521306657624054\n",
      "Education;Creativity : 0.04521306657624054\n",
      "Role Playing;Action & Adventure : 0.0339097999321804\n",
      "Puzzle;Action & Adventure : 0.0339097999321804\n",
      "Entertainment;Creativity : 0.0339097999321804\n",
      "Entertainment;Action & Adventure : 0.0339097999321804\n",
      "Educational;Creativity : 0.0339097999321804\n",
      "Educational;Action & Adventure : 0.0339097999321804\n",
      "Education;Music & Video : 0.0339097999321804\n",
      "Education;Brain Games : 0.0339097999321804\n",
      "Education;Action & Adventure : 0.0339097999321804\n",
      "Adventure;Action & Adventure : 0.0339097999321804\n",
      "Video Players & Editors;Music & Video : 0.02260653328812027\n",
      "Sports;Action & Adventure : 0.02260653328812027\n",
      "Simulation;Pretend Play : 0.02260653328812027\n",
      "Puzzle;Creativity : 0.02260653328812027\n",
      "Music;Music & Video : 0.02260653328812027\n",
      "Entertainment;Pretend Play : 0.02260653328812027\n",
      "Casual;Education : 0.02260653328812027\n",
      "Board;Action & Adventure : 0.02260653328812027\n",
      "Video Players & Editors;Creativity : 0.011303266644060134\n",
      "Trivia;Education : 0.011303266644060134\n",
      "Travel & Local;Action & Adventure : 0.011303266644060134\n",
      "Tools;Education : 0.011303266644060134\n",
      "Strategy;Education : 0.011303266644060134\n",
      "Strategy;Creativity : 0.011303266644060134\n",
      "Strategy;Action & Adventure : 0.011303266644060134\n",
      "Simulation;Education : 0.011303266644060134\n",
      "Role Playing;Brain Games : 0.011303266644060134\n",
      "Racing;Pretend Play : 0.011303266644060134\n",
      "Puzzle;Education : 0.011303266644060134\n",
      "Parenting;Brain Games : 0.011303266644060134\n",
      "Music & Audio;Music & Video : 0.011303266644060134\n",
      "Lifestyle;Pretend Play : 0.011303266644060134\n",
      "Lifestyle;Education : 0.011303266644060134\n",
      "Health & Fitness;Education : 0.011303266644060134\n",
      "Health & Fitness;Action & Adventure : 0.011303266644060134\n",
      "Entertainment;Education : 0.011303266644060134\n",
      "Communication;Creativity : 0.011303266644060134\n",
      "Comics;Creativity : 0.011303266644060134\n",
      "Casual;Music & Video : 0.011303266644060134\n",
      "Card;Action & Adventure : 0.011303266644060134\n",
      "Books & Reference;Education : 0.011303266644060134\n",
      "Art & Design;Pretend Play : 0.011303266644060134\n",
      "Art & Design;Action & Adventure : 0.011303266644060134\n",
      "Arcade;Pretend Play : 0.011303266644060134\n",
      "Adventure;Education : 0.011303266644060134\n"
     ]
    }
   ],
   "source": [
    "display_table(cleaned_android_store, 9)"
   ]
  },
  {
   "cell_type": "markdown",
   "metadata": {},
   "source": [
    "#### Analysis of Android Genres & Category columns\n",
    "\n",
    "1. What are the most common genres?\n",
    "    - Family for Category\n",
    "    - Tools for Genre\n",
    "2. What other patterns do you see?\n",
    "    - There's no Family Genre instead it's probably borken up.\n",
    "    - Entertainment is high on Genre, but low on Category.\n",
    "    - Category is very broad and is an aggregation of what's in Genre, but not sure how they map to each other.\n",
    "3. Compare the patterns you see for the Google Play market with those you saw for the App Store market.\n",
    "    - Games and Entertainment are top 2 across the board.\n",
    "    - Android has more functional apps as it's top ranking while iOS has more entertaining types at its top.\n",
    "4. Can you recommend an app profile based on what you found so far? Do the frequency tables you generated reveal the most frequent app genres or what genres have the most users?\n",
    "    - The frequency tables do help me understand the genres, but I don't think we have enough for our recommendation. This is a very broad analysis."
   ]
  },
  {
   "cell_type": "markdown",
   "metadata": {},
   "source": [
    "## Understanding Most Popular Genres\n",
    "One way to find out what genres are the most popular (have the most users) is to calculate the average number of installs for each app genre. \n",
    "\n",
    "For the **Google Play data set**, we can find this information in the **Installs** column, but this information is missing for the App Store data set. \n",
    "\n",
    "As a workaround, we'll take the *total number of user ratings* as a ***proxy***, which we can find in the **rating_count_tot** app.\n",
    "\n",
    "### iOS Store: Average # of User Ratings per Genre\n",
    "1. Isolate the apps of each genre.\n",
    "2. Sum up the user ratings for the apps of that genre.\n",
    "3. Divide the sum by the number of apps belonging to that genre (not by the total number of apps)."
   ]
  },
  {
   "cell_type": "code",
   "execution_count": 36,
   "metadata": {},
   "outputs": [],
   "source": [
    "# 1. Frequency table for iOS app genre\n",
    "ios_genre_f_table = freq_table(cleaned_ios_store, 11)"
   ]
  },
  {
   "cell_type": "code",
   "execution_count": 41,
   "metadata": {},
   "outputs": [],
   "source": [
    "# 2 - 3 get the average\n",
    "ios_popular_app = {}\n",
    "\n",
    "for genre in ios_genre_f_table:\n",
    "    total = 0\n",
    "    len_genre = 0\n",
    "    \n",
    "    for row in cleaned_ios_store[1:]:\n",
    "        genre_app = row[11]\n",
    "        if genre_app == genre:\n",
    "            user_rating = float(row[5])\n",
    "            total += user_rating\n",
    "            len_genre += 1\n",
    "    \n",
    "    average_user_rating = total / len_genre\n",
    "    \n",
    "    ios_popular_app[genre] = average_user_rating         "
   ]
  },
  {
   "cell_type": "code",
   "execution_count": 45,
   "metadata": {},
   "outputs": [
    {
     "name": "stdout",
     "output_type": "stream",
     "text": [
      "Navigation : 86090.33333333333\n",
      "Reference : 79350.4705882353\n",
      "Social Networking : 71548.34905660378\n",
      "Music : 57326.530303030304\n",
      "Weather : 52279.892857142855\n",
      "Book : 46384.916666666664\n",
      "Food & Drink : 33333.92307692308\n",
      "Finance : 32367.02857142857\n",
      "Photo & Video : 28441.54375\n",
      "Travel : 28243.8\n",
      "Shopping : 27230.734939759037\n",
      "Health & Fitness : 23298.015384615384\n",
      "Sports : 23008.898550724636\n",
      "Games : 22886.36709539121\n",
      "News : 21248.023255813954\n",
      "Productivity : 21028.410714285714\n",
      "Utilities : 19156.493670886077\n",
      "Lifestyle : 16815.48\n",
      "Entertainment : 14195.358565737051\n",
      "Business : 7491.117647058823\n",
      "Education : 7003.983050847458\n",
      "Catalogs : 4004.0\n",
      "Medical : 612.0\n"
     ]
    }
   ],
   "source": [
    "# Analyze\n",
    "display_table(ios_popular_app,need_idx = False)"
   ]
  },
  {
   "cell_type": "markdown",
   "metadata": {},
   "source": [
    "Naivgation has the highest average rating from users and Reference is the second highest. Navigation makes sense since it's quite useful and needed in a modern society, but reference was a bit confusing until I looked it up.\n",
    "\n",
    "Reference has to do with dictionary, thesaurus, and translations. It's anytime someone needs to look some kind of information up around language be it via text, audio or video."
   ]
  },
  {
   "cell_type": "markdown",
   "metadata": {},
   "source": [
    "### Google Play Store: Average # of User Ratings per Genre\n",
    "Challenge here is that the app installs are strings with characters in them, making it hard to manipulate.\n",
    "\n",
    "We'll need to clean the string and convert them into a float."
   ]
  },
  {
   "cell_type": "code",
   "execution_count": 51,
   "metadata": {
    "scrolled": true
   },
   "outputs": [
    {
     "name": "stdout",
     "output_type": "stream",
     "text": [
      "FAMILY : 18.932971628800725\n",
      "GAME : 9.698202780603594\n",
      "TOOLS : 8.45484344975698\n",
      "BUSINESS : 4.600429524132474\n",
      "PRODUCTIVITY : 3.8996269922007465\n",
      "LIFESTYLE : 3.888323725556686\n",
      "FINANCE : 3.7074714592517237\n",
      "MEDICAL : 3.537922459590822\n",
      "SPORTS : 3.39097999321804\n",
      "PERSONALIZATION : 3.3231603933536795\n",
      "COMMUNICATION : 3.2327342602011986\n",
      "HEALTH_AND_FITNESS : 3.0857917938284163\n",
      "PHOTOGRAPHY : 2.950152594099695\n",
      "NEWS_AND_MAGAZINES : 2.803210127726913\n",
      "SOCIAL : 2.6675709279981916\n",
      "TRAVEL_AND_LOCAL : 2.3397761953204474\n",
      "SHOPPING : 2.2493500621679665\n",
      "BOOKS_AND_REFERENCE : 2.136317395727365\n",
      "DATING : 1.8650389962699219\n",
      "VIDEO_PLAYERS : 1.797219396405561\n",
      "MAPS_AND_NAVIGATION : 1.3903017972193965\n",
      "FOOD_AND_DRINK : 1.2433593308466147\n",
      "EDUCATION : 1.1642364643381937\n",
      "ENTERTAINMENT : 0.9607776647451114\n",
      "LIBRARIES_AND_DEMO : 0.938171131456991\n",
      "AUTO_AND_VEHICLES : 0.9268678648129309\n",
      "HOUSE_AND_HOME : 0.8025319317282694\n",
      "WEATHER : 0.7912286650842093\n",
      "EVENTS : 0.7121057985757884\n",
      "PARENTING : 0.6555894653554878\n",
      "ART_AND_DESIGN : 0.6442861987114276\n",
      "COMICS : 0.6103763987792472\n",
      "BEAUTY : 0.5990731321351871\n"
     ]
    }
   ],
   "source": [
    "android_category_freq_table = freq_table(cleaned_android_store, 1)\n",
    "\n",
    "display_table(android_category_freq_table,need_idx = False)"
   ]
  },
  {
   "cell_type": "code",
   "execution_count": 60,
   "metadata": {},
   "outputs": [
    {
     "name": "stdout",
     "output_type": "stream",
     "text": [
      "['App', 'Category', 'Rating', 'Reviews', 'Size', 'Installs', 'Type', 'Price', 'Content Rating', 'Genres', 'Last Updated', 'Current Ver', 'Android Ver']\n",
      "\n",
      "\n",
      "['Photo Editor & Candy Camera & Grid & ScrapBook', 'ART_AND_DESIGN', '4.1', '159', '19M', '10,000+', 'Free', '0', 'Everyone', 'Art & Design', 'January 7, 2018', '1.0.0', '4.0.3 and up']\n",
      "\n",
      "\n",
      "['U Launcher Lite – FREE Live Cool Themes, Hide Apps', 'ART_AND_DESIGN', '4.7', '87510', '8.7M', '5,000,000+', 'Free', '0', 'Everyone', 'Art & Design', 'August 1, 2018', '1.2.4', '4.0.3 and up']\n",
      "\n",
      "\n",
      "['Sketch - Draw & Paint', 'ART_AND_DESIGN', '4.5', '215644', '25M', '50,000,000+', 'Free', '0', 'Teen', 'Art & Design', 'June 8, 2018', 'Varies with device', '4.2 and up']\n",
      "\n",
      "\n"
     ]
    }
   ],
   "source": [
    "explore_data(cleaned_android_store,0,4)\n"
   ]
  },
  {
   "cell_type": "code",
   "execution_count": 64,
   "metadata": {
    "scrolled": false
   },
   "outputs": [],
   "source": [
    "android_popular_app_table = {}\n",
    "\n",
    "for category in android_category_freq_table:\n",
    "    total = 0\n",
    "    len_category = 0\n",
    "    \n",
    "    for row in cleaned_android_store[1:]:\n",
    "        category_app = row[1]\n",
    "        if category_app == category:\n",
    "            num_installs = row[5]\n",
    "            num_installs = num_installs.replace('+','')\n",
    "            num_installs = num_installs.replace(',','')\n",
    "            num_installs = float(num_installs)\n",
    "            total += num_installs\n",
    "            len_category += 1\n",
    "    \n",
    "    average_num_installs = total / len_category\n",
    "    \n",
    "    android_popular_app_table[category] = average_num_installs    "
   ]
  },
  {
   "cell_type": "code",
   "execution_count": 66,
   "metadata": {},
   "outputs": [
    {
     "name": "stdout",
     "output_type": "stream",
     "text": [
      "COMMUNICATION : 38590581.08741259\n",
      "VIDEO_PLAYERS : 24727872.452830188\n",
      "SOCIAL : 23253652.127118643\n",
      "PHOTOGRAPHY : 17840110.40229885\n",
      "PRODUCTIVITY : 16787331.344927534\n",
      "GAME : 15544014.51048951\n",
      "TRAVEL_AND_LOCAL : 13984077.710144928\n",
      "ENTERTAINMENT : 11640705.88235294\n",
      "TOOLS : 10830251.970588235\n",
      "NEWS_AND_MAGAZINES : 9549178.467741935\n",
      "BOOKS_AND_REFERENCE : 8814199.78835979\n",
      "SHOPPING : 7036877.311557789\n",
      "PERSONALIZATION : 5201482.6122448975\n",
      "WEATHER : 5145550.285714285\n",
      "HEALTH_AND_FITNESS : 4188821.9853479853\n",
      "MAPS_AND_NAVIGATION : 4049274.6341463416\n",
      "FAMILY : 3697848.1731343283\n",
      "SPORTS : 3650602.276666667\n",
      "ART_AND_DESIGN : 1986335.0877192982\n",
      "FOOD_AND_DRINK : 1924897.7363636363\n",
      "EDUCATION : 1833495.145631068\n",
      "BUSINESS : 1712290.1474201474\n",
      "LIFESTYLE : 1446158.2238372094\n",
      "FINANCE : 1387692.475609756\n",
      "HOUSE_AND_HOME : 1360598.042253521\n",
      "DATING : 854028.8303030303\n",
      "COMICS : 832613.8888888889\n",
      "AUTO_AND_VEHICLES : 647317.8170731707\n",
      "LIBRARIES_AND_DEMO : 638503.734939759\n",
      "PARENTING : 542603.6206896552\n",
      "BEAUTY : 513151.88679245283\n",
      "EVENTS : 253542.22222222222\n",
      "MEDICAL : 120550.61980830671\n"
     ]
    }
   ],
   "source": [
    "display_table(android_popular_app_table,need_idx = False)"
   ]
  },
  {
   "cell_type": "markdown",
   "metadata": {},
   "source": [
    "### Analysis\n",
    "iOS top 3 genres are 1. navigation, 2. reference, and 3. social networking.\n",
    "Android top 3 genres are 1. communication, 2. video player and 3. social.\n",
    "\n",
    "Reference genre are things like books, dictionaries, religious texts, basically anything with written word on it that people want to retrieve information.\n",
    "\n",
    "The only genre that is in the top three for both operating systems is social. So why not make a community app around a specific book genre or book genres in general. So that people can become social around the the information they're looking to consumer and retrieve."
   ]
  },
  {
   "cell_type": "markdown",
   "metadata": {},
   "source": [
    "## Conclusions\n",
    "In this project, I analyzed data about the App Store and Google Play mobile apps with the goal of recommending an app profile that can be profitable for both markets.\n",
    "\n",
    "We concluded that combining reference and social could be an app could that is profitable for both the Google Play and the App Store markets. The markets are already full of libraries, so we need to add some special features besides the raw version of the book. "
   ]
  },
  {
   "cell_type": "code",
   "execution_count": null,
   "metadata": {},
   "outputs": [],
   "source": []
  }
 ],
 "metadata": {
  "kernelspec": {
   "display_name": "Python 3",
   "language": "python",
   "name": "python3"
  },
  "language_info": {
   "codemirror_mode": {
    "name": "ipython",
    "version": 3
   },
   "file_extension": ".py",
   "mimetype": "text/x-python",
   "name": "python",
   "nbconvert_exporter": "python",
   "pygments_lexer": "ipython3",
   "version": "3.7.6"
  }
 },
 "nbformat": 4,
 "nbformat_minor": 4
}
